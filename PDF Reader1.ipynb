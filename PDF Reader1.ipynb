{
 "cells": [
  {
   "cell_type": "code",
   "execution_count": 1,
   "id": "2f908607",
   "metadata": {},
   "outputs": [],
   "source": [
    "#!pip install PyPDF2"
   ]
  },
  {
   "cell_type": "code",
   "execution_count": 1,
   "id": "eb58113f",
   "metadata": {},
   "outputs": [],
   "source": [
    "import glob\n",
    "import fitz\n",
    "#import pyPDF2"
   ]
  },
  {
   "cell_type": "code",
   "execution_count": 3,
   "id": "964fc725",
   "metadata": {},
   "outputs": [],
   "source": [
    "import PyPDF2\n",
    "import re\n",
    "import glob"
   ]
  },
  {
   "cell_type": "code",
   "execution_count": 4,
   "id": "75bc9d31",
   "metadata": {},
   "outputs": [],
   "source": [
    "from PyPDF2 import PdfFileReader, PdfFileWriter"
   ]
  },
  {
   "cell_type": "code",
   "execution_count": 5,
   "id": "7e88e6d0",
   "metadata": {},
   "outputs": [],
   "source": [
    "mypath =r\"C:\\Users\\Shikha\\Desktop\\PDF\""
   ]
  },
  {
   "cell_type": "code",
   "execution_count": 7,
   "id": "32c19d40",
   "metadata": {},
   "outputs": [
    {
     "name": "stdout",
     "output_type": "stream",
     "text": [
      "C:\\Users\\Deepa\\Desktop\\PDF\\500112.pdf\n",
      "<PyPDF2.pdf.PdfFileReader object at 0x000001EDAF71B790>\n",
      "C:\\Users\\Deepa\\Desktop\\PDF\\500380.pdf\n",
      "<PyPDF2.pdf.PdfFileReader object at 0x000001EDB082FF10>\n",
      "C:\\Users\\Deepa\\Desktop\\PDF\\500585.pdf\n",
      "<PyPDF2.pdf.PdfFileReader object at 0x000001EDB084B2E0>\n"
     ]
    }
   ],
   "source": [
    "number_of_pdf_file=0\n",
    "for file in glob.glob(mypath + \"\\*.pdf\"):\n",
    "    \n",
    "    print(file)\n",
    "    number_of_pdf_file += 1\n",
    "    \n",
    "#print(number_of_pdf_file)\n",
    "    if file.endswith('.pdf'):\n",
    "        fileReader = PyPDF2.PdfFileReader(open(file, \"rb\"))\n",
    "        print(fileReader)\n",
    "        for j in range(1,number_of_pdf_file+1):\n",
    "            for i in range(fileReader.numPages):\n",
    "                output = PdfFileWriter()\n",
    "                output.addPage(fileReader.getPage(i))\n",
    "                #print('start')\n",
    "                with open(\"document-page\"+str(j)+\"_\"+\"%s.pdf\" % i, \"wb\") as outputStream:\n",
    "                    output.write(outputStream) \n",
    "                #print('End')"
   ]
  }
 ],
 "metadata": {
  "kernelspec": {
   "display_name": "Python 3",
   "language": "python",
   "name": "python3"
  },
  "language_info": {
   "codemirror_mode": {
    "name": "ipython",
    "version": 3
   },
   "file_extension": ".py",
   "mimetype": "text/x-python",
   "name": "python",
   "nbconvert_exporter": "python",
   "pygments_lexer": "ipython3",
   "version": "3.8.8"
  }
 },
 "nbformat": 4,
 "nbformat_minor": 5
}
